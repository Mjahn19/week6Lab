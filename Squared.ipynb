{
 "cells": [
  {
   "cell_type": "code",
   "execution_count": 2,
   "metadata": {},
   "outputs": [
    {
     "name": "stdin",
     "output_type": "stream",
     "text": [
      "What is your name? Alex\n",
      "Pick a number (1-30) 89\n",
      "Invalid input try again 76\n",
      "Invalid input try again 56\n",
      "Invalid input try again 3\n"
     ]
    },
    {
     "name": "stdout",
     "output_type": "stream",
     "text": [
      "Alex ,  3  squared is  9\n"
     ]
    }
   ],
   "source": [
    "name = input(\"What is your name?\")\n",
    "number = input(\"Pick a number (1-50)\")\n",
    "number = int(number)\n",
    "while number < 1 or number > 50:\n",
    "    number = input(\"Invalid input try again\")\n",
    "    number = int(number)\n",
    "numSqr = number * number\n",
    "print(name, \", \", number, \" squared is \", numSqr)"
   ]
  },
  {
   "cell_type": "code",
   "execution_count": null,
   "metadata": {},
   "outputs": [],
   "source": []
  }
 ],
 "metadata": {
  "kernelspec": {
   "display_name": "Python 3.7",
   "language": "python",
   "name": "python3"
  },
  "language_info": {
   "codemirror_mode": {
    "name": "ipython",
    "version": 3
   },
   "file_extension": ".py",
   "mimetype": "text/x-python",
   "name": "python",
   "nbconvert_exporter": "python",
   "pygments_lexer": "ipython3",
   "version": "3.7.0"
  }
 },
 "nbformat": 4,
 "nbformat_minor": 2
}
